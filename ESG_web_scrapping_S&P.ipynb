{
 "cells": [
  {
   "attachments": {},
   "cell_type": "markdown",
   "metadata": {},
   "source": [
    "## WEB SCRAPPING S&P"
   ]
  },
  {
   "attachments": {},
   "cell_type": "markdown",
   "metadata": {},
   "source": [
    "https://www.spglobal.com/esg/solutions/data-intelligence-esg-scores"
   ]
  },
  {
   "cell_type": "code",
   "execution_count": 1,
   "metadata": {},
   "outputs": [],
   "source": [
    "from selenium import webdriver\n",
    "from selenium.webdriver.common.by import By\n",
    "from selenium.webdriver.common.keys import Keys\n",
    "from selenium.webdriver.support.ui import WebDriverWait\n",
    "from selenium.webdriver.support import expected_conditions as EC\n"
   ]
  },
  {
   "cell_type": "code",
   "execution_count": 13,
   "metadata": {},
   "outputs": [],
   "source": [
    "INDUSTRY_FIELDS = {\n",
    "    \"COM Construction Materials\": [\"Occupational Health & Safety\", \"Operational Eco-Efficiency\", \"Human Rights\", \"Business Ethics\", \"Risk & Crisis Management\", \"Talent Attraction & Retention\", \"Water Related Risks\", \"Climate Strategy\"],\n",
    "    \"AUT Automobiles\": [\"Corporate Governance\", \"Human Capital Development\", \"Talent Attraction & Retention\", \"Operational Eco-Efficiency\", \"Low Carbon Strategy\", \"Occupational Health & Safety\", \"Climate Strategy\", \"Supply Chain Management\", \"Innovation Management\"],\n",
    "    \"ELC Electric Utilities\": [\"Market Opportunities\", \"Electricity Generation\", \"Business Ethics\", \"Talent Attraction & Retention\", \"Climate Strategy\", \"Stakeholder Engagement\", \"Operational Eco-Efficiency\", \"Risk & Crisis Management\", \"Occupational Health & Safety\"]\n",
    "}"
   ]
  },
  {
   "cell_type": "code",
   "execution_count": 16,
   "metadata": {},
   "outputs": [
    {
     "name": "stdout",
     "output_type": "stream",
     "text": [
      "ESG Score: 89\n",
      "Environmental Score: 89\n",
      "Social Score: 90\n",
      "Governance and economic Score: 89\n",
      "Historic ESG Scores: [('2018', '87'), ('2019', '86'), ('2020', '87'), ('2021', '89'), ('2022', '89')]\n",
      "Market Opportunities: 100\n",
      "Electricity Generation: 92\n",
      "Business Ethics: 93\n",
      "Talent Attraction & Retention: 90\n",
      "Climate Strategy: 93\n",
      "Stakeholder Engagement: 100\n",
      "Operational Eco-Efficiency: 90\n",
      "Risk & Crisis Management: 100\n",
      "Occupational Health & Safety: 72\n",
      "CPU times: total: 78.1 ms\n",
      "Wall time: 7.33 s\n"
     ]
    }
   ],
   "source": [
    "%%time\n",
    "COMPANY = \"Iberdrola, S.A.\" # \"Iberdrola, S.A.\", \"CEMEX, S.A.B. de C.V.\", \"Ford Motor Company\"\n",
    "\n",
    "# CEMEX: https://www.spglobal.com/esg/scores/results?cid=4077095\n",
    "driver = webdriver.Chrome()\n",
    "driver.get(\"https://www.spglobal.com/esg/solutions/data-intelligence-esg-scores\")\n",
    "\n",
    "browser = driver.find_element(By.CLASS_NAME, \"banner-search__input\")\n",
    "browser.send_keys(COMPANY)\n",
    "browser.send_keys(Keys.RETURN)\n",
    "\n",
    "# Ir sacando los valores númericos uno a uno por sus posiciones\n",
    "\n",
    "# Wait to get fields until load the results for company\n",
    "esg_score_present = EC.presence_of_element_located((By.ID, \"esg-score\"))\n",
    "WebDriverWait(driver, 10).until(esg_score_present)\n",
    "\n",
    "# 1. ESG score: id=\"esg-score\"\n",
    "esg_score = driver.find_element(By.ID, \"esg-score\")\n",
    "esg_score_value = esg_score.text\n",
    "print(f\"ESG Score: {esg_score_value}\")\n",
    "# Image 1 (3 line charts): figure class=\"highcharts-figure\"\n",
    "# 2. Environmental score: \"Environmental: CEMEX S.A.B. de C.V. 89\"\n",
    "enviromental_score = driver.find_element(By.XPATH, \"//div[@class='dimention-chart1']/div[@class='DimensionScore__label']/ul/li[1]/span\")\n",
    "enviromental_score_value = enviromental_score.text\n",
    "print(f\"Environmental Score: {enviromental_score_value}\")\n",
    "# environmental_score = driver.find_element(By.CLASS_NAME, \"dimention-chart1\")\n",
    "# 3. Social score: \"Social: CEMEX S.A.B. de C.V. 71\"\n",
    "social_score = driver.find_element(By.XPATH, \"//div[@class='dimention-chart2']/div[@class='DimensionScore__label']/ul/li[1]/span\")\n",
    "social_score_value = social_score.text\n",
    "print(f\"Social Score: {social_score_value}\")\n",
    "# 4. Governance & economic score: \"Governance & Economic: CEMEX S.A.B. de C.V. 68\"\n",
    "gov_eco_score = driver.find_element(By.XPATH, \"//div[@class='dimention-chart3']/div[@class='DimensionScore__label']/ul/li[1]/span\")\n",
    "gov_eco_score_value = gov_eco_score.text\n",
    "print(f\"Governance and economic Score: {gov_eco_score_value}\")\n",
    "# Image 2 (line chart)\n",
    "# 5. Score History: \"Score History\"\n",
    "history_score = driver.find_elements(By.XPATH, \"//div[@id='line-series-chart']/div[@class='highcharts-container ']/*[name()='svg']/*[name()='g' and @class='highcharts-series-group']/*[name()='g' and contains(@class, 'highcharts-markers') and contains(@class, 'highcharts-tracker')]/*[name()='path' and @class='highcharts-point']\") \n",
    "history_score_values = []\n",
    "for point in history_score:\n",
    "    values = point.get_attribute(\"aria-label\").split(\".\")[1].strip().split(\",\")\n",
    "    history_score_values.append((values[0].strip(), values[1].strip()))\n",
    "print(f\"Historic ESG Scores: {history_score_values}\")\n",
    "# Image 3 (Radar plot). Change based in industry \n",
    "spider_chart = driver.find_elements(By.XPATH, \"//div[@id='spiderchartcontainer']/div[@class='highcharts-container ']/*[name()='svg']/*[name()='g' and @class='highcharts-series-group']/*[name()='g' and contains(@aria-label, 'series 1 of 3')]/*[name()='path' and @class='highcharts-point']\") \n",
    "industry = driver.find_element(By.ID, \"company-industry\").text.split(\":\")[1].strip()\n",
    "dimensions = {} \n",
    "for field in INDUSTRY_FIELDS[industry]:\n",
    "    dimensions[field] = next(point.get_attribute(\"aria-label\").split(\".\")[1].split(\",\")[1].strip() for point in spider_chart if field in point.get_attribute(\"aria-label\"))\n",
    "for key, value in dimensions.items():\n",
    "    print(f\"{key}: {value}\")\n",
    "\n",
    "\n",
    "# driver.close()\n"
   ]
  },
  {
   "cell_type": "code",
   "execution_count": null,
   "metadata": {},
   "outputs": [],
   "source": []
  },
  {
   "cell_type": "code",
   "execution_count": null,
   "metadata": {},
   "outputs": [],
   "source": []
  },
  {
   "cell_type": "code",
   "execution_count": null,
   "metadata": {},
   "outputs": [],
   "source": []
  }
 ],
 "metadata": {
  "kernelspec": {
   "display_name": ".venv",
   "language": "python",
   "name": "python3"
  },
  "language_info": {
   "codemirror_mode": {
    "name": "ipython",
    "version": 3
   },
   "file_extension": ".py",
   "mimetype": "text/x-python",
   "name": "python",
   "nbconvert_exporter": "python",
   "pygments_lexer": "ipython3",
   "version": "3.10.0"
  },
  "orig_nbformat": 4,
  "vscode": {
   "interpreter": {
    "hash": "f5ba7a6c16a720a8fcfcd34bdaadf5cdbc49ba027e19047b36704b1ce47dc83d"
   }
  }
 },
 "nbformat": 4,
 "nbformat_minor": 2
}
