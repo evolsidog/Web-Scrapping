{
 "cells": [
  {
   "cell_type": "markdown",
   "metadata": {
    "deletable": true,
    "editable": true
   },
   "source": [
    "# Web Scrapping (Without API)"
   ]
  },
  {
   "cell_type": "markdown",
   "metadata": {
    "deletable": true,
    "editable": true
   },
   "source": [
    "In this case we dont use the APIS of this pages for get their datse. We going to get the maximum, minimum and mean temperature in Madrid for the actual day from AEMET.The previous temperatures of the day respect to the query hour d´ont appear but not concern us for this practice exercise"
   ]
  },
  {
   "cell_type": "code",
   "execution_count": 85,
   "metadata": {
    "collapsed": true,
    "deletable": true,
    "editable": true
   },
   "outputs": [],
   "source": [
    "import requests, json, datetime, pandas as pd\n",
    "from bs4 import BeautifulSoup, re"
   ]
  },
  {
   "cell_type": "code",
   "execution_count": 86,
   "metadata": {
    "collapsed": false,
    "deletable": true,
    "editable": true
   },
   "outputs": [
    {
     "name": "stdout",
     "output_type": "stream",
     "text": [
      "Connection stablished\n"
     ]
    }
   ],
   "source": [
    "#We get the pages with the prediction by hours\n",
    "aemet = requests.get('http://www.aemet.es/es/eltiempo/prediccion/municipios/horas/madrid-id28079')\n",
    "#weather = requests.get('https://weather.com/es-US/tiempo/horario/l/SPXX0050:1:SP')\n",
    "\n",
    "assert (aemet.status_code == 200) , \"Error connecting with aemet.es\"\n",
    "#assert (weather.status_code == 200) , \"Error connecting with weather.com\"\n",
    "\n",
    "print \"Connection stablished\""
   ]
  },
  {
   "cell_type": "code",
   "execution_count": 87,
   "metadata": {
    "collapsed": false,
    "deletable": true,
    "editable": true
   },
   "outputs": [],
   "source": [
    "#Aemet\n",
    "soup_aemet = BeautifulSoup(aemet.content,'lxml')\n",
    "current_hour = datetime.datetime.now().hour\n",
    "num_hours = 24 - current_hour\n",
    "\n",
    "''' # We can`t get the temperature by the table because the info it`s painted dinamically by jquery function\n",
    "hours_colums_total = soup_aemet.find('div', id = 'dia_tabla_0')\n",
    "#Aemet show 41 hours form actual time. We get the actual date and count the rest hours of the day for get n hours\n",
    "hours = ('div', class_ = re.compile(\"^contenedor_popup_\"))#[0:num_hours -1]\n",
    "'''\n",
    "\n",
    "script_string =soup_aemet.find(\"script\", text=re.compile('datasets')).string\n",
    "\n",
    "#Now ge got the script that contain our target var. Has blanks and the names hasn`t quotes\n",
    "datasets = script_string.split('var' )[1].replace('datasets = ',\"\").strip()[:-1]\n",
    "\n",
    "#Now we got the value of var. We going get the temps manually since the var not is a dict neither json neither yaml\n",
    "temp_string = datasets.split(\"temp\")[1].split(\"data:\")[1].replace('}',\"\").strip()[1:]\n",
    "temp_clean = \"\".join(temp_string.split())\n",
    "temp_string_list = temp_clean.replace(']',']]').split('],')[:num_hours]\n",
    "temp_string_list = map(lambda x: x.replace('[','').replace(']',''), temp_string_list)\n",
    "\n",
    "#We have separated list but are string lists, we need numbers\n",
    "values_temp_list = [int(x.split(',')[1]) for x in temp_string_list]\n",
    "\n",
    "#Serie with temp as value and hour as index\n",
    "temp_by_hour = pd.Series(values_temp_list, index=range(current_hour,current_hour + num_hours))\n",
    "aemet_df = pd.DataFrame({'hour':temp_by_hour.index, 'temp':temp_by_hour.values})\n",
    "#aemet_df"
   ]
  },
  {
   "cell_type": "code",
   "execution_count": 88,
   "metadata": {
    "collapsed": false,
    "deletable": true,
    "editable": true
   },
   "outputs": [],
   "source": [
    "def get_aemet_max_and_min():\n",
    "    max_df = aemet_df[aemet_df['temp'] == aemet_df['temp'].max()]\n",
    "    min_df = aemet_df[aemet_df['temp'] == aemet_df['temp'].min()]\n",
    "    #max_df.set_value('0', 'temp', 23)\n",
    "    \n",
    "    print \"AEMET said the maximum temperature will be %d degrees and it will be at the next hours: %s\" % (max_df['temp'].iloc[0],\",\".join(map(str,max_df['hour'].get_values().tolist())))\n",
    "    print \"AEMET said the minimum temperature will be %d degrees and it will be at the next hours: %s\" % (min_df['temp'].iloc[0],\",\".join(map(str,min_df['hour'].get_values().tolist())))\n"
   ]
  },
  {
   "cell_type": "code",
   "execution_count": 89,
   "metadata": {
    "collapsed": false,
    "deletable": true,
    "editable": true
   },
   "outputs": [],
   "source": [
    "#Top n max and n min\n",
    "def get_aemet_top_n_temp(n=5):\n",
    "    #If not specify the n by default is 5. \n",
    "    if(n>num_hours):\n",
    "        n=num_hours\n",
    "    \n",
    "    top_max_df = aemet_df.sort_values(by='temp').head(n)\n",
    "    top_min_df = aemet_df.sort_values(by='temp', ascending=False).head(n)\n",
    "    \n",
    "    print \"AEMET said the top maximum temperature will be: %s and it will be at the next hours: %s\" % (\",\".join(map(str,top_max_df['hour'].get_values().tolist())),\",\".join(map(str,top_max_df['hour'].get_values().tolist())))\n",
    "    print \"AEMET said the top minimum temperature will be: %s and it will be at the next hours: %s\" % (\",\".join(map(str,top_min_df['hour'].get_values().tolist())),\",\".join(map(str,top_min_df['hour'].get_values().tolist())))\n"
   ]
  },
  {
   "cell_type": "code",
   "execution_count": 90,
   "metadata": {
    "collapsed": false,
    "deletable": true,
    "editable": true
   },
   "outputs": [
    {
     "name": "stdout",
     "output_type": "stream",
     "text": [
      "AEMET said the maximum temperature will be 23 degrees and it will be at the next hours: 15\n",
      "AEMET said the minimum temperature will be 14 degrees and it will be at the next hours: 23\n",
      "AEMET said the top maximum temperature will be: 23,22,21,20,11 and it will be at the next hours: 23,22,21,20,11\n",
      "AEMET said the top minimum temperature will be: 15,14,16,13,17 and it will be at the next hours: 15,14,16,13,17\n"
     ]
    }
   ],
   "source": [
    "get_aemet_max_and_min()\n",
    "get_aemet_top_n_temp()"
   ]
  },
  {
   "cell_type": "code",
   "execution_count": null,
   "metadata": {
    "collapsed": true,
    "deletable": true,
    "editable": true
   },
   "outputs": [],
   "source": []
  }
 ],
 "metadata": {
  "kernelspec": {
   "display_name": "Python 2",
   "language": "python",
   "name": "python2"
  },
  "language_info": {
   "codemirror_mode": {
    "name": "ipython",
    "version": 2
   },
   "file_extension": ".py",
   "mimetype": "text/x-python",
   "name": "python",
   "nbconvert_exporter": "python",
   "pygments_lexer": "ipython2",
   "version": "2.7.13"
  }
 },
 "nbformat": 4,
 "nbformat_minor": 2
}
